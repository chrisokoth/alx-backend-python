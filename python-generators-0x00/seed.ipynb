import mysql.connector
import csv
import uuid

# Database connection function
def connect_db():
    """Connect to the MySQL database server."""
    try:
        # Attempting to connect to MySQL server
        connection = mysql.connector.connect(
            host="localhost",  
            user="root",  
            password="okothe07"  
        )
        if connection.is_connected():  # Check if connection is successful
            print("Database connected successfully")
        return connection
    except Error as e:
        print(f"Error: {e}")
        return None
